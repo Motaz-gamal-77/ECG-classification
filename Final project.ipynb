{
 "cells": [
  {
   "cell_type": "code",
   "execution_count": 10,
   "id": "8b902dd4",
   "metadata": {},
   "outputs": [],
   "source": [
    "#importing important libraries\n",
    "import numpy as np\n",
    "import pandas as pd\n",
    "import seaborn as sns\n",
    "import matplotlib.pyplot as plt\n",
    "from sklearn.metrics import classification_report\n",
    "from sklearn.model_selection import train_test_split\n",
    "from sklearn.metrics import f1_score\n",
    "from sklearn.metrics import confusion_matrix\n",
    "from keras.utils.np_utils import to_categorical\n",
    "from sklearn.utils import class_weight\n",
    "import tensorflow as tf\n",
    "#ignoring the warnings\n",
    "import warnings\n",
    "warnings.filterwarnings('ignore')"
   ]
  },
  {
   "cell_type": "code",
   "execution_count": 10,
   "id": "c496f065",
   "metadata": {},
   "outputs": [],
   "source": [
    "#importing test and train data\n",
    "train = pd.read_csv(\"mitbih_train.csv\", header = None)\n",
    "test = pd.read_csv(\"mitbih_test.csv\", header = None)"
   ]
  },
  {
   "cell_type": "code",
   "execution_count": 113,
   "id": "0ec5b392",
   "metadata": {},
   "outputs": [
    {
     "data": {
      "text/html": [
       "<div>\n",
       "<style scoped>\n",
       "    .dataframe tbody tr th:only-of-type {\n",
       "        vertical-align: middle;\n",
       "    }\n",
       "\n",
       "    .dataframe tbody tr th {\n",
       "        vertical-align: top;\n",
       "    }\n",
       "\n",
       "    .dataframe thead th {\n",
       "        text-align: right;\n",
       "    }\n",
       "</style>\n",
       "<table border=\"1\" class=\"dataframe\">\n",
       "  <thead>\n",
       "    <tr style=\"text-align: right;\">\n",
       "      <th></th>\n",
       "      <th>0</th>\n",
       "      <th>1</th>\n",
       "      <th>2</th>\n",
       "      <th>3</th>\n",
       "      <th>4</th>\n",
       "      <th>5</th>\n",
       "      <th>6</th>\n",
       "      <th>7</th>\n",
       "      <th>8</th>\n",
       "      <th>9</th>\n",
       "      <th>...</th>\n",
       "      <th>178</th>\n",
       "      <th>179</th>\n",
       "      <th>180</th>\n",
       "      <th>181</th>\n",
       "      <th>182</th>\n",
       "      <th>183</th>\n",
       "      <th>184</th>\n",
       "      <th>185</th>\n",
       "      <th>186</th>\n",
       "      <th>187</th>\n",
       "    </tr>\n",
       "  </thead>\n",
       "  <tbody>\n",
       "    <tr>\n",
       "      <th>10153</th>\n",
       "      <td>0.162791</td>\n",
       "      <td>0.540698</td>\n",
       "      <td>0.755814</td>\n",
       "      <td>0.186047</td>\n",
       "      <td>0.168605</td>\n",
       "      <td>0.546512</td>\n",
       "      <td>0.616279</td>\n",
       "      <td>0.697674</td>\n",
       "      <td>0.651163</td>\n",
       "      <td>0.703488</td>\n",
       "      <td>...</td>\n",
       "      <td>0.0</td>\n",
       "      <td>0.0</td>\n",
       "      <td>0.0</td>\n",
       "      <td>0.0</td>\n",
       "      <td>0.0</td>\n",
       "      <td>0.0</td>\n",
       "      <td>0.0</td>\n",
       "      <td>0.0</td>\n",
       "      <td>0.0</td>\n",
       "      <td>0.0</td>\n",
       "    </tr>\n",
       "    <tr>\n",
       "      <th>33886</th>\n",
       "      <td>0.990066</td>\n",
       "      <td>0.938742</td>\n",
       "      <td>0.344371</td>\n",
       "      <td>0.034768</td>\n",
       "      <td>0.273179</td>\n",
       "      <td>0.331126</td>\n",
       "      <td>0.326159</td>\n",
       "      <td>0.341060</td>\n",
       "      <td>0.347682</td>\n",
       "      <td>0.347682</td>\n",
       "      <td>...</td>\n",
       "      <td>0.0</td>\n",
       "      <td>0.0</td>\n",
       "      <td>0.0</td>\n",
       "      <td>0.0</td>\n",
       "      <td>0.0</td>\n",
       "      <td>0.0</td>\n",
       "      <td>0.0</td>\n",
       "      <td>0.0</td>\n",
       "      <td>0.0</td>\n",
       "      <td>0.0</td>\n",
       "    </tr>\n",
       "    <tr>\n",
       "      <th>32005</th>\n",
       "      <td>0.974239</td>\n",
       "      <td>0.932084</td>\n",
       "      <td>0.590164</td>\n",
       "      <td>0.131148</td>\n",
       "      <td>0.014052</td>\n",
       "      <td>0.168618</td>\n",
       "      <td>0.238876</td>\n",
       "      <td>0.210773</td>\n",
       "      <td>0.196721</td>\n",
       "      <td>0.208431</td>\n",
       "      <td>...</td>\n",
       "      <td>0.0</td>\n",
       "      <td>0.0</td>\n",
       "      <td>0.0</td>\n",
       "      <td>0.0</td>\n",
       "      <td>0.0</td>\n",
       "      <td>0.0</td>\n",
       "      <td>0.0</td>\n",
       "      <td>0.0</td>\n",
       "      <td>0.0</td>\n",
       "      <td>0.0</td>\n",
       "    </tr>\n",
       "    <tr>\n",
       "      <th>56159</th>\n",
       "      <td>0.978495</td>\n",
       "      <td>0.723118</td>\n",
       "      <td>0.526882</td>\n",
       "      <td>0.298387</td>\n",
       "      <td>0.220430</td>\n",
       "      <td>0.158602</td>\n",
       "      <td>0.091398</td>\n",
       "      <td>0.091398</td>\n",
       "      <td>0.080645</td>\n",
       "      <td>0.083333</td>\n",
       "      <td>...</td>\n",
       "      <td>0.0</td>\n",
       "      <td>0.0</td>\n",
       "      <td>0.0</td>\n",
       "      <td>0.0</td>\n",
       "      <td>0.0</td>\n",
       "      <td>0.0</td>\n",
       "      <td>0.0</td>\n",
       "      <td>0.0</td>\n",
       "      <td>0.0</td>\n",
       "      <td>0.0</td>\n",
       "    </tr>\n",
       "    <tr>\n",
       "      <th>61783</th>\n",
       "      <td>0.963351</td>\n",
       "      <td>0.709424</td>\n",
       "      <td>0.060209</td>\n",
       "      <td>0.013089</td>\n",
       "      <td>0.057592</td>\n",
       "      <td>0.041885</td>\n",
       "      <td>0.047120</td>\n",
       "      <td>0.034031</td>\n",
       "      <td>0.039267</td>\n",
       "      <td>0.044503</td>\n",
       "      <td>...</td>\n",
       "      <td>0.0</td>\n",
       "      <td>0.0</td>\n",
       "      <td>0.0</td>\n",
       "      <td>0.0</td>\n",
       "      <td>0.0</td>\n",
       "      <td>0.0</td>\n",
       "      <td>0.0</td>\n",
       "      <td>0.0</td>\n",
       "      <td>0.0</td>\n",
       "      <td>0.0</td>\n",
       "    </tr>\n",
       "  </tbody>\n",
       "</table>\n",
       "<p>5 rows × 188 columns</p>\n",
       "</div>"
      ],
      "text/plain": [
       "            0         1         2         3         4         5         6    \\\n",
       "10153  0.162791  0.540698  0.755814  0.186047  0.168605  0.546512  0.616279   \n",
       "33886  0.990066  0.938742  0.344371  0.034768  0.273179  0.331126  0.326159   \n",
       "32005  0.974239  0.932084  0.590164  0.131148  0.014052  0.168618  0.238876   \n",
       "56159  0.978495  0.723118  0.526882  0.298387  0.220430  0.158602  0.091398   \n",
       "61783  0.963351  0.709424  0.060209  0.013089  0.057592  0.041885  0.047120   \n",
       "\n",
       "            7         8         9    ...  178  179  180  181  182  183  184  \\\n",
       "10153  0.697674  0.651163  0.703488  ...  0.0  0.0  0.0  0.0  0.0  0.0  0.0   \n",
       "33886  0.341060  0.347682  0.347682  ...  0.0  0.0  0.0  0.0  0.0  0.0  0.0   \n",
       "32005  0.210773  0.196721  0.208431  ...  0.0  0.0  0.0  0.0  0.0  0.0  0.0   \n",
       "56159  0.091398  0.080645  0.083333  ...  0.0  0.0  0.0  0.0  0.0  0.0  0.0   \n",
       "61783  0.034031  0.039267  0.044503  ...  0.0  0.0  0.0  0.0  0.0  0.0  0.0   \n",
       "\n",
       "       185  186  187  \n",
       "10153  0.0  0.0  0.0  \n",
       "33886  0.0  0.0  0.0  \n",
       "32005  0.0  0.0  0.0  \n",
       "56159  0.0  0.0  0.0  \n",
       "61783  0.0  0.0  0.0  \n",
       "\n",
       "[5 rows x 188 columns]"
      ]
     },
     "execution_count": 113,
     "metadata": {},
     "output_type": "execute_result"
    }
   ],
   "source": [
    "train.head()"
   ]
  },
  {
   "cell_type": "code",
   "execution_count": 42,
   "id": "7b64fe50",
   "metadata": {},
   "outputs": [
    {
     "data": {
      "text/plain": [
       "0.0    72471\n",
       "4.0     6431\n",
       "2.0     5788\n",
       "1.0     2223\n",
       "3.0      641\n",
       "Name: 187, dtype: int64"
      ]
     },
     "execution_count": 42,
     "metadata": {},
     "output_type": "execute_result"
    }
   ],
   "source": [
    "train[187].value_counts()"
   ]
  },
  {
   "cell_type": "code",
   "execution_count": 5,
   "id": "11193b16",
   "metadata": {},
   "outputs": [
    {
     "data": {
      "image/png": "[encoded data removed]",
      "text/plain": [
       "<Figure size 1440x720 with 1 Axes>"
      ]
     },
     "metadata": {},
     "output_type": "display_data"
    }
   ],
   "source": [
    "per_class = train[187].value_counts()\n",
    "plt.figure(figsize=(20,10))\n",
    "my_circle=plt.Circle( (0,0), 0.7, color='white')\n",
    "plt.pie(per_class, labels=['normal beat','unknown Beats','Ventricular ectopic beats','Supraventricular ectopic beats','Fusion Beats'], colors=['tab:blue','tab:orange','tab:purple','tab:olive','tab:red'],autopct='%1.1f%%')\n",
    "p=plt.gcf()\n",
    "p.gca().add_artist(my_circle)\n",
    "plt.show()"
   ]
  },
  {
   "cell_type": "code",
   "execution_count": 11,
   "id": "b769ed23",
   "metadata": {},
   "outputs": [],
   "source": [
    "#Resampling 20000 record from normal beat(as its the biggest percent) set in order to balance the percentage of other cases\n",
    "from sklearn.utils import resample\n",
    "\n",
    "#resampled_arrayssequence of array-like of shape (n_samples,) or (n_samples, n_outputs)\n",
    "#Sequence of resampled copies of the collections. The original arrays are not impacted.\n",
    "\n",
    "#collecting classes from last coloumn and putting it in variables\n",
    "d1=train[train[187]==1]\n",
    "d2=train[train[187]==2]\n",
    "d3=train[train[187]==3]\n",
    "d4=train[train[187]==4]\n",
    "\n",
    "#specifying 20000 recordfrom normal beat cases\n",
    "d0=(train[train[187]==0]).sample(n=20000,random_state=42)\n",
    "\n",
    "#Random_case Determines random number generation for shuffling the data.\n",
    "#Pass an int for reproducible results across multiple function calls.\n",
    "\n",
    "d1_upsampled=resample(d1,replace=True,n_samples=20000,random_state=123)\n",
    "d2_upsampled=resample(d2,replace=True,n_samples=20000,random_state=124)\n",
    "d3_upsampled=resample(d3,replace=True,n_samples=20000,random_state=125)\n",
    "d4_upsampled=resample(d4,replace=True,n_samples=20000,random_state=126)\n",
    "\n",
    "train=pd.concat([d0,d1_upsampled,d2_upsampled,d3_upsampled,d4_upsampled])"
   ]
  },
  {
   "cell_type": "code",
   "execution_count": 24,
   "id": "60552300",
   "metadata": {},
   "outputs": [
    {
     "data": {
      "image/png": "[encoded data removed]",
      "text/plain": [
       "<Figure size 1440x720 with 1 Axes>"
      ]
     },
     "metadata": {},
     "output_type": "display_data"
    }
   ],
   "source": [
    "#testing the resampling by plotting the data\n",
    "per_case = train[187].value_counts()\n",
    "plt.figure(figsize=(20,10))\n",
    "circle=plt.Circle( (0,0), 0.8, color='white')\n",
    "cmap = plt.get_cmap(\"tab20c\")\n",
    "plt.pie(per_case, labels=['normal beat','unknown Beats','Ventricular ectopic beats','Supraventricular ectopic beats','Fusion Beats'], colors=cmap(np.arange(5)*4),autopct='%1.1f%%')\n",
    "p=plt.gcf()\n",
    "p.gca().add_artist(circle)\n",
    "plt.show()"
   ]
  },
  {
   "cell_type": "code",
   "execution_count": 12,
   "id": "4e3dd245",
   "metadata": {},
   "outputs": [],
   "source": [
    "classes=train.groupby(187,group_keys=False).apply(lambda train : train.sample(1))"
   ]
  },
  {
   "cell_type": "code",
   "execution_count": 13,
   "id": "b95ed6de",
   "metadata": {},
   "outputs": [],
   "source": [
    "categories=[\"Normal beat\", \"unknown Beat\", \"Ventricular ectopic beat\", \"Supraventricular ectopic beat\", \"Fusion Beat\"]"
   ]
  },
  {
   "cell_type": "code",
   "execution_count": 14,
   "id": "91d5cb4b",
   "metadata": {},
   "outputs": [
    {
     "data": {
      "image/png": "[encoded data removed]",
      "text/plain": [
       "<Figure size 432x288 with 2 Axes>"
      ]
     },
     "metadata": {
      "needs_background": "light"
     },
     "output_type": "display_data"
    }
   ],
   "source": [
    "#adding gaussian  noise to the signals to make it more realistic\n",
    "def add_gaussian_noise(signal):\n",
    "    noise=np.random.normal(0,0.05,186)\n",
    "    return (signal+noise)\n",
    "tempo=classes.iloc[0,:186]\n",
    "bruiter=add_gaussian_noise(tempo)\n",
    "\n",
    "plt.subplot(2,1,1)\n",
    "plt.plot(classes.iloc[0,:186])\n",
    "\n",
    "plt.subplot(2,1,2)\n",
    "plt.plot(bruiter)\n",
    "\n",
    "plt.show()\n"
   ]
  },
  {
   "cell_type": "code",
   "execution_count": 15,
   "id": "2a180014",
   "metadata": {},
   "outputs": [],
   "source": [
    "target_train=train[187]\n",
    "target_test=test[187]\n",
    "y_train=to_categorical(target_train)\n",
    "y_test=to_categorical(target_test)\n",
    "x_train=train.iloc[:,:186].values\n",
    "x_test=test.iloc[:,:186].values\n",
    "x_train_cnn = x_train.reshape(len(x_train), x_train.shape[1],1)\n",
    "x_test_cnn = x_test.reshape(len(x_test), x_test.shape[1],1)"
   ]
  },
  {
   "cell_type": "code",
   "execution_count": 56,
   "id": "00dcabef",
   "metadata": {},
   "outputs": [],
   "source": [
    "model_ann = tf.keras.models.Sequential()\n",
    "\n",
    "\n",
    "model_ann.add(tf.keras.layers.Dense(20, activation=tf.keras.layers.LeakyReLU(alpha=0.001), input_shape=(186,)))\n",
    "\n",
    "model_ann.add(tf.keras.layers.Dense(20, activation=tf.keras.layers.LeakyReLU(alpha=0.001)))\n",
    "\n",
    "model_ann.add(tf.keras.layers.Dense(20, activation=tf.keras.layers.LeakyReLU(alpha=0.001)))\n",
    "\n",
    "model_ann.add(tf.keras.layers.Dense(20, activation=tf.keras.layers.LeakyReLU(alpha=0.001)))\n",
    "#Softmax as last layer with five outputs\n",
    "model_ann.add(tf.keras.layers.Dense(5, activation='softmax'))"
   ]
  },
  {
   "cell_type": "code",
   "execution_count": 114,
   "id": "6eaba00b",
   "metadata": {},
   "outputs": [
    {
     "name": "stdout",
     "output_type": "stream",
     "text": [
      "Epoch 1/20\n",
      "10000/10000 [==============================] - 45s 4ms/step - loss: 0.1138 - accuracy: 0.9616 - val_loss: 0.2938 - val_accuracy: 0.9115\n",
      "Epoch 2/20\n",
      "10000/10000 [==============================] - 42s 4ms/step - loss: 0.1126 - accuracy: 0.9620 - val_loss: 0.3494 - val_accuracy: 0.8915\n",
      "Epoch 3/20\n",
      "10000/10000 [==============================] - 44s 4ms/step - loss: 0.1087 - accuracy: 0.9631 - val_loss: 0.3341 - val_accuracy: 0.8891\n",
      "Epoch 4/20\n",
      "10000/10000 [==============================] - 45s 5ms/step - loss: 0.1075 - accuracy: 0.9637 - val_loss: 0.2474 - val_accuracy: 0.9215\n",
      "Epoch 5/20\n",
      "10000/10000 [==============================] - 46s 5ms/step - loss: 0.1071 - accuracy: 0.9633 - val_loss: 0.2513 - val_accuracy: 0.9215\n",
      "Epoch 6/20\n",
      "10000/10000 [==============================] - 43s 4ms/step - loss: 0.1060 - accuracy: 0.9641 - val_loss: 0.2297 - val_accuracy: 0.9316\n",
      "Epoch 7/20\n",
      "10000/10000 [==============================] - 46s 5ms/step - loss: 0.1023 - accuracy: 0.9657 - val_loss: 0.3042 - val_accuracy: 0.9066\n",
      "Epoch 8/20\n",
      "10000/10000 [==============================] - 41s 4ms/step - loss: 0.1003 - accuracy: 0.9659 - val_loss: 0.2619 - val_accuracy: 0.9211\n",
      "Epoch 9/20\n",
      "10000/10000 [==============================] - 42s 4ms/step - loss: 0.0994 - accuracy: 0.9663 - val_loss: 0.2774 - val_accuracy: 0.9215\n",
      "Epoch 10/20\n",
      "10000/10000 [==============================] - 40s 4ms/step - loss: 0.0988 - accuracy: 0.9668 - val_loss: 0.2600 - val_accuracy: 0.9253\n",
      "Epoch 11/20\n",
      "10000/10000 [==============================] - 40s 4ms/step - loss: 0.0975 - accuracy: 0.9678 - val_loss: 0.2449 - val_accuracy: 0.9249\n",
      "Epoch 12/20\n",
      "10000/10000 [==============================] - 41s 4ms/step - loss: 0.0966 - accuracy: 0.9678 - val_loss: 0.2596 - val_accuracy: 0.9231\n",
      "Epoch 13/20\n",
      "10000/10000 [==============================] - 41s 4ms/step - loss: 0.0944 - accuracy: 0.9689 - val_loss: 0.2206 - val_accuracy: 0.9366\n",
      "Epoch 14/20\n",
      "10000/10000 [==============================] - 40s 4ms/step - loss: 0.0946 - accuracy: 0.9679 - val_loss: 0.2807 - val_accuracy: 0.9181\n",
      "Epoch 15/20\n",
      "10000/10000 [==============================] - 40s 4ms/step - loss: 0.0929 - accuracy: 0.9690 - val_loss: 0.2453 - val_accuracy: 0.9296\n",
      "Epoch 16/20\n",
      "10000/10000 [==============================] - 41s 4ms/step - loss: 0.0925 - accuracy: 0.9689 - val_loss: 0.2679 - val_accuracy: 0.9222\n",
      "Epoch 17/20\n",
      "10000/10000 [==============================] - 41s 4ms/step - loss: 0.0910 - accuracy: 0.9693 - val_loss: 0.2606 - val_accuracy: 0.9242\n",
      "Epoch 18/20\n",
      "10000/10000 [==============================] - 40s 4ms/step - loss: 0.0916 - accuracy: 0.9689 - val_loss: 0.2651 - val_accuracy: 0.9231\n",
      "Epoch 19/20\n",
      "10000/10000 [==============================] - 41s 4ms/step - loss: 0.0900 - accuracy: 0.9700 - val_loss: 0.2431 - val_accuracy: 0.9325\n",
      "Epoch 20/20\n",
      "10000/10000 [==============================] - 41s 4ms/step - loss: 0.0891 - accuracy: 0.9699 - val_loss: 0.2741 - val_accuracy: 0.9197\n"
     ]
    }
   ],
   "source": [
    "model_ann.compile(loss='categorical_crossentropy', optimizer='adam',metrics=['accuracy'])\n",
    "ann_model_history = model_ann.fit(x_train, y_train, epochs=20, batch_size = 10, validation_data = (x_test, y_test))"
   ]
  },
  {
   "cell_type": "code",
   "execution_count": 120,
   "id": "1ef5dc88",
   "metadata": {},
   "outputs": [
    {
     "name": "stdout",
     "output_type": "stream",
     "text": [
      "685/685 [==============================] - 2s 3ms/step - loss: 0.2741 - accuracy: 0.9197\n"
     ]
    },
    {
     "data": {
      "text/plain": [
       "[0.2741481363773346, 0.9196510314941406]"
      ]
     },
     "execution_count": 120,
     "metadata": {},
     "output_type": "execute_result"
    }
   ],
   "source": [
    "model_ann.evaluate(x_test,y_test)"
   ]
  },
  {
   "cell_type": "code",
   "execution_count": 16,
   "id": "43c20361",
   "metadata": {},
   "outputs": [],
   "source": [
    "import os\n",
    "os.environ[\"KERAS_BACKEND\"] = \"tensorflow\"\n",
    "from keras.models import Sequential\n",
    "from keras.layers import Dense \n",
    "from keras.layers import Conv1D, MaxPooling1D, Flatten , Conv2DTranspose\n",
    "import warnings\n",
    "from keras.optimizers import Adam\n",
    "\n",
    "\n",
    "from keras.layers.normalization import BatchNormalization"
   ]
  },
  {
   "cell_type": "code",
   "execution_count": 17,
   "id": "f048ae12",
   "metadata": {},
   "outputs": [],
   "source": [
    "def build_model():\n",
    "    model = Sequential()\n",
    "    im_shape=(x_train_cnn.shape[1],1)\n",
    "    \n",
    "    model.add(Conv1D(filters = 64, kernel_size = 6, activation='relu', padding = 'same', input_shape = im_shape)) \n",
    "   \n",
    "    model.add(BatchNormalization())\n",
    "    \n",
    "\n",
    "    model.add(MaxPooling1D(pool_size=(3), strides = (2), padding = 'same'))\n",
    "\n",
    "    model.add(Conv1D(filters = 64, kernel_size = 6, activation='relu', padding = 'same'))\n",
    "    model.add(BatchNormalization())\n",
    "    model.add(MaxPooling1D(pool_size=(3), strides = (2), padding = 'same'))\n",
    "\n",
    "    model.add(Conv1D( filters = 64, kernel_size = 6, activation='relu', padding = 'same'))\n",
    "    model.add(BatchNormalization())\n",
    "    model.add(MaxPooling1D(pool_size=(3), strides = (2), padding = 'same'))\n",
    "\n",
    "    model.add(Flatten())\n",
    "    model.add(Dense(units = 64, activation='relu'))\n",
    "\n",
    "    model.add(Dense(units = 64, activation='relu'))\n",
    "\n",
    "    model.add(Dense(units = 5, activation='softmax'))\n",
    "\n",
    "    model.compile(optimizer = 'Adam', loss = 'categorical_crossentropy', metrics = ['accuracy'])\n",
    "    return model\n"
   ]
  },
  {
   "cell_type": "code",
   "execution_count": 18,
   "id": "be979fb9",
   "metadata": {},
   "outputs": [],
   "source": [
    "model_cnn = build_model()"
   ]
  },
  {
   "cell_type": "code",
   "execution_count": 36,
   "id": "5c045a6b",
   "metadata": {},
   "outputs": [
    {
     "name": "stdout",
     "output_type": "stream",
     "text": [
      "Epoch 1/20\n",
      "3125/3125 [==============================] - 320s 102ms/step - loss: 0.1909 - accuracy: 0.9322 - val_loss: 0.2747 - val_accuracy: 0.9007\n",
      "Epoch 2/20\n",
      "3125/3125 [==============================] - 320s 102ms/step - loss: 0.0756 - accuracy: 0.9743 - val_loss: 0.1304 - val_accuracy: 0.9574\n",
      "Epoch 3/20\n",
      "3125/3125 [==============================] - 339s 109ms/step - loss: 0.0506 - accuracy: 0.9834 - val_loss: 0.1079 - val_accuracy: 0.9695\n",
      "Epoch 4/20\n",
      "3125/3125 [==============================] - 348s 111ms/step - loss: 0.0386 - accuracy: 0.9875 - val_loss: 0.1200 - val_accuracy: 0.9678\n",
      "Epoch 5/20\n",
      "3125/3125 [==============================] - 353s 113ms/step - loss: 0.0316 - accuracy: 0.9902 - val_loss: 0.1307 - val_accuracy: 0.9683\n",
      "Epoch 6/20\n",
      "3125/3125 [==============================] - 363s 116ms/step - loss: 0.0260 - accuracy: 0.9917 - val_loss: 0.1917 - val_accuracy: 0.9551\n",
      "Epoch 7/20\n",
      "3125/3125 [==============================] - 344s 110ms/step - loss: 0.0238 - accuracy: 0.9925 - val_loss: 0.1128 - val_accuracy: 0.9744\n",
      "Epoch 8/20\n",
      "3125/3125 [==============================] - 337s 108ms/step - loss: 0.0201 - accuracy: 0.9939 - val_loss: 0.1316 - val_accuracy: 0.9670\n",
      "Epoch 9/20\n",
      "3125/3125 [==============================] - 337s 108ms/step - loss: 0.0174 - accuracy: 0.9945 - val_loss: 0.1277 - val_accuracy: 0.9744\n",
      "Epoch 10/20\n",
      "3125/3125 [==============================] - 317s 101ms/step - loss: 0.0157 - accuracy: 0.9953 - val_loss: 0.1647 - val_accuracy: 0.9625\n",
      "Epoch 11/20\n",
      "3125/3125 [==============================] - 324s 104ms/step - loss: 0.0155 - accuracy: 0.9952 - val_loss: 0.1212 - val_accuracy: 0.9775\n",
      "Epoch 12/20\n",
      "3125/3125 [==============================] - 348s 111ms/step - loss: 0.0130 - accuracy: 0.9959 - val_loss: 0.1312 - val_accuracy: 0.9775\n",
      "Epoch 13/20\n",
      "3125/3125 [==============================] - 398s 128ms/step - loss: 0.0120 - accuracy: 0.9965 - val_loss: 0.1724 - val_accuracy: 0.9741\n",
      "Epoch 14/20\n",
      "3125/3125 [==============================] - 321s 103ms/step - loss: 0.0128 - accuracy: 0.9962 - val_loss: 0.1601 - val_accuracy: 0.9747\n",
      "Epoch 15/20\n",
      "3125/3125 [==============================] - 295s 95ms/step - loss: 0.0120 - accuracy: 0.9966 - val_loss: 0.1439 - val_accuracy: 0.9775\n",
      "Epoch 16/20\n",
      "3125/3125 [==============================] - 295s 94ms/step - loss: 0.0104 - accuracy: 0.9970 - val_loss: 0.2019 - val_accuracy: 0.9629\n",
      "Epoch 17/20\n",
      "3125/3125 [==============================] - 294s 94ms/step - loss: 0.0099 - accuracy: 0.9969 - val_loss: 0.1406 - val_accuracy: 0.9792\n",
      "Epoch 18/20\n",
      "3125/3125 [==============================] - 294s 94ms/step - loss: 0.0087 - accuracy: 0.9973 - val_loss: 0.1568 - val_accuracy: 0.9767\n",
      "Epoch 19/20\n",
      "3125/3125 [==============================] - 294s 94ms/step - loss: 0.0101 - accuracy: 0.9971 - val_loss: 0.1707 - val_accuracy: 0.9751\n",
      "Epoch 20/20\n",
      "3125/3125 [==============================] - 295s 94ms/step - loss: 0.0076 - accuracy: 0.9979 - val_loss: 0.1993 - val_accuracy: 0.9721\n"
     ]
    }
   ],
   "source": [
    "history = model_cnn.fit(x_train_cnn, y_train, epochs = 20, batch_size = 32, validation_data=(x_test_cnn, y_test))"
   ]
  },
  {
   "cell_type": "code",
   "execution_count": 111,
   "id": "e23fce28",
   "metadata": {},
   "outputs": [
    {
     "data": {
      "text/plain": [
       "<AxesSubplot:>"
      ]
     },
     "execution_count": 111,
     "metadata": {},
     "output_type": "execute_result"
    },
    {
     "data": {
      "image/png": "[encoded data removed]",
      "text/plain": [
       "<Figure size 432x288 with 2 Axes>"
      ]
     },
     "metadata": {
      "needs_background": "light"
     },
     "output_type": "display_data"
    }
   ],
   "source": [
    "#confusion_matrix(y_test.argmax(axis=1), y_pred.argmax(axis=1))\n",
    "def plot_confusion_matrix(y_test,y_pred):\n",
    "    classes=['N', 'S', 'V', 'F', 'Q']\n",
    "    column = [f'predicted {label}'for label in classes]\n",
    "    row = [f'True {label}'for label in classes]\n",
    "    table = pd.DataFrame(confusion_matrix(y_test.argmax(axis=1), y_pred.argmax(axis=1))\n",
    "                         ,columns =column, index = row)\n",
    "    return sns.heatmap(table, annot= True, fmt='d', cmap='Blues')\n",
    "\n",
    "plot_confusion_matrix(y_test,y_pred)"
   ]
  },
  {
   "cell_type": "code",
   "execution_count": 26,
   "id": "a664a51b",
   "metadata": {},
   "outputs": [],
   "source": [
    "#saving the model as a hdm5 file\n",
    "model_cnn.save('model.h5')"
   ]
  },
  {
   "cell_type": "code",
   "execution_count": 15,
   "id": "cfd31314",
   "metadata": {},
   "outputs": [],
   "source": [
    "from keras.models import load_model\n",
    "newModel=load_model('model.h5')"
   ]
  },
  {
   "cell_type": "code",
   "execution_count": 124,
   "id": "9fcfdf9f",
   "metadata": {},
   "outputs": [
    {
     "data": {
      "text/plain": [
       "'Normal beat'"
      ]
     },
     "execution_count": 124,
     "metadata": {},
     "output_type": "execute_result"
    }
   ],
   "source": [
    "pred=model_ann.predict(x_test[900].reshape(1,186))\n",
    "categoryIndex=np.argmax(pred)\n",
    "categories[categoryIndex]"
   ]
  },
  {
   "cell_type": "code",
   "execution_count": 122,
   "id": "5c6ac0e5",
   "metadata": {
    "scrolled": true
   },
   "outputs": [
    {
     "data": {
      "text/plain": [
       "'Normal beat'"
      ]
     },
     "execution_count": 122,
     "metadata": {},
     "output_type": "execute_result"
    }
   ],
   "source": [
    "pred=model_cnn.predict(x_test_cnn[900].reshape(1,186,1))\n",
    "categoryIndex=np.argmax(pred)\n",
    "categories[categoryIndex]"
   ]
  },
  {
   "cell_type": "code",
   "execution_count": 19,
   "id": "c5de990a",
   "metadata": {},
   "outputs": [
    {
     "data": {
      "text/plain": [
       "'2.3.0'"
      ]
     },
     "execution_count": 19,
     "metadata": {},
     "output_type": "execute_result"
    }
   ],
   "source": [
    "tf.version.VERSION"
   ]
  },
  {
   "cell_type": "code",
   "execution_count": null,
   "id": "2527e257",
   "metadata": {},
   "outputs": [],
   "source": []
  }
 ],
 "metadata": {
  "kernelspec": {
   "display_name": "Python 3",
   "language": "python",
   "name": "python3"
  },
  "language_info": {
   "codemirror_mode": {
    "name": "ipython",
    "version": 3
   },
   "file_extension": ".py",
   "mimetype": "text/x-python",
   "name": "python",
   "nbconvert_exporter": "python",
   "pygments_lexer": "ipython3",
   "version": "3.8.8"
  }
 },
 "nbformat": 4,
 "nbformat_minor": 5
}
